{
  "nbformat": 4,
  "nbformat_minor": 0,
  "metadata": {
    "colab": {
      "provenance": [],
      "include_colab_link": true
    },
    "kernelspec": {
      "name": "python3",
      "display_name": "Python 3"
    },
    "language_info": {
      "name": "python"
    }
  },
  "cells": [
    {
      "cell_type": "markdown",
      "metadata": {
        "id": "view-in-github",
        "colab_type": "text"
      },
      "source": [
        "<a href=\"https://colab.research.google.com/github/Orlandovpjunior/Orlandovpjunior/blob/main/TC07_Exerc%C3%ADcios_Workspace.ipynb\" target=\"_parent\"><img src=\"https://colab.research.google.com/assets/colab-badge.svg\" alt=\"Open In Colab\"/></a>"
      ]
    },
    {
      "cell_type": "code",
      "execution_count": 1,
      "metadata": {
        "colab": {
          "base_uri": "https://localhost:8080/"
        },
        "outputId": "1d2f04db-0217-4544-ef69-cf87f0a95629",
        "id": "_bfEHdJZwo4Q",
        "collapsed": true
      },
      "outputs": [
        {
          "output_type": "stream",
          "name": "stdout",
          "text": [
            "Reading package lists... Done\n",
            "Building dependency tree... Done\n",
            "Reading state information... Done\n",
            "python3-dev is already the newest version (3.10.6-1~22.04).\n",
            "python3-dev set to manually installed.\n",
            "graphviz is already the newest version (2.42.2-6ubuntu0.1).\n",
            "The following packages were automatically installed and are no longer required:\n",
            "  libbz2-dev libpkgconf3 libreadline-dev\n",
            "Use 'apt autoremove' to remove them.\n",
            "The following additional packages will be installed:\n",
            "  libgail-common libgail18 libgtk2.0-0 libgtk2.0-bin libgtk2.0-common libgvc6-plugins-gtk\n",
            "  librsvg2-common libxdot4\n",
            "Suggested packages:\n",
            "  gvfs\n",
            "The following packages will be REMOVED:\n",
            "  pkgconf r-base-dev\n",
            "The following NEW packages will be installed:\n",
            "  libgail-common libgail18 libgraphviz-dev libgtk2.0-0 libgtk2.0-bin libgtk2.0-common\n",
            "  libgvc6-plugins-gtk librsvg2-common libxdot4 pkg-config\n",
            "0 upgraded, 10 newly installed, 2 to remove and 45 not upgraded.\n",
            "Need to get 2,482 kB of archives.\n",
            "After this operation, 7,670 kB of additional disk space will be used.\n",
            "Get:1 http://archive.ubuntu.com/ubuntu jammy/main amd64 pkg-config amd64 0.29.2-1ubuntu3 [48.2 kB]\n",
            "Get:2 http://archive.ubuntu.com/ubuntu jammy-updates/main amd64 libgtk2.0-common all 2.24.33-2ubuntu2.1 [125 kB]\n",
            "Get:3 http://archive.ubuntu.com/ubuntu jammy-updates/main amd64 libgtk2.0-0 amd64 2.24.33-2ubuntu2.1 [2,038 kB]\n",
            "Get:4 http://archive.ubuntu.com/ubuntu jammy-updates/main amd64 libgail18 amd64 2.24.33-2ubuntu2.1 [15.9 kB]\n",
            "Get:5 http://archive.ubuntu.com/ubuntu jammy-updates/main amd64 libgail-common amd64 2.24.33-2ubuntu2.1 [132 kB]\n",
            "Get:6 http://archive.ubuntu.com/ubuntu jammy-updates/universe amd64 libxdot4 amd64 2.42.2-6ubuntu0.1 [16.4 kB]\n",
            "Get:7 http://archive.ubuntu.com/ubuntu jammy-updates/universe amd64 libgvc6-plugins-gtk amd64 2.42.2-6ubuntu0.1 [22.5 kB]\n",
            "Get:8 http://archive.ubuntu.com/ubuntu jammy-updates/universe amd64 libgraphviz-dev amd64 2.42.2-6ubuntu0.1 [58.5 kB]\n",
            "Get:9 http://archive.ubuntu.com/ubuntu jammy-updates/main amd64 libgtk2.0-bin amd64 2.24.33-2ubuntu2.1 [7,936 B]\n",
            "Get:10 http://archive.ubuntu.com/ubuntu jammy-updates/main amd64 librsvg2-common amd64 2.52.5+dfsg-3ubuntu0.2 [17.7 kB]\n",
            "Fetched 2,482 kB in 0s (14.0 MB/s)\n",
            "(Reading database ... 123589 files and directories currently installed.)\n",
            "Removing r-base-dev (4.4.1-1.2204.0) ...\n",
            "\u001b[1mdpkg:\u001b[0m pkgconf: dependency problems, but removing anyway as you requested:\n",
            " libsndfile1-dev:amd64 depends on pkg-config; however:\n",
            "  Package pkg-config is not installed.\n",
            "  Package pkgconf which provides pkg-config is to be removed.\n",
            " libopencv-dev depends on pkg-config; however:\n",
            "  Package pkg-config is not installed.\n",
            "  Package pkgconf which provides pkg-config is to be removed.\n",
            " libmkl-dev:amd64 depends on pkg-config; however:\n",
            "  Package pkg-config is not installed.\n",
            "  Package pkgconf which provides pkg-config is to be removed.\n",
            " libjack-dev depends on pkg-config; however:\n",
            "  Package pkg-config is not installed.\n",
            "  Package pkgconf which provides pkg-config is to be removed.\n",
            " libgphoto2-dev:amd64 depends on pkg-config; however:\n",
            "  Package pkg-config is not installed.\n",
            "  Package pkgconf which provides pkg-config is to be removed.\n",
            " libfontconfig-dev:amd64 depends on pkg-config; however:\n",
            "  Package pkg-config is not installed.\n",
            "  Package pkgconf which provides pkg-config is to be removed.\n",
            "\n",
            "Removing pkgconf (1.8.0-1) ...\n",
            "Removing 'diversion of /usr/bin/pkg-config to /usr/bin/pkg-config.real by pkgconf'\n",
            "Removing 'diversion of /usr/share/aclocal/pkg.m4 to /usr/share/aclocal/pkg.real.m4 by pkgconf'\n",
            "Removing 'diversion of /usr/share/man/man1/pkg-config.1.gz to /usr/share/man/man1/pkg-config.real.1.gz by pkgconf'\n",
            "Removing 'diversion of /usr/share/pkg-config-crosswrapper to /usr/share/pkg-config-crosswrapper.real by pkgconf'\n",
            "Selecting previously unselected package pkg-config.\n",
            "(Reading database ... 123565 files and directories currently installed.)\n",
            "Preparing to unpack .../0-pkg-config_0.29.2-1ubuntu3_amd64.deb ...\n",
            "Unpacking pkg-config (0.29.2-1ubuntu3) ...\n",
            "Selecting previously unselected package libgtk2.0-common.\n",
            "Preparing to unpack .../1-libgtk2.0-common_2.24.33-2ubuntu2.1_all.deb ...\n",
            "Unpacking libgtk2.0-common (2.24.33-2ubuntu2.1) ...\n",
            "Selecting previously unselected package libgtk2.0-0:amd64.\n",
            "Preparing to unpack .../2-libgtk2.0-0_2.24.33-2ubuntu2.1_amd64.deb ...\n",
            "Unpacking libgtk2.0-0:amd64 (2.24.33-2ubuntu2.1) ...\n",
            "Selecting previously unselected package libgail18:amd64.\n",
            "Preparing to unpack .../3-libgail18_2.24.33-2ubuntu2.1_amd64.deb ...\n",
            "Unpacking libgail18:amd64 (2.24.33-2ubuntu2.1) ...\n",
            "Selecting previously unselected package libgail-common:amd64.\n",
            "Preparing to unpack .../4-libgail-common_2.24.33-2ubuntu2.1_amd64.deb ...\n",
            "Unpacking libgail-common:amd64 (2.24.33-2ubuntu2.1) ...\n",
            "Selecting previously unselected package libxdot4:amd64.\n",
            "Preparing to unpack .../5-libxdot4_2.42.2-6ubuntu0.1_amd64.deb ...\n",
            "Unpacking libxdot4:amd64 (2.42.2-6ubuntu0.1) ...\n",
            "Selecting previously unselected package libgvc6-plugins-gtk.\n",
            "Preparing to unpack .../6-libgvc6-plugins-gtk_2.42.2-6ubuntu0.1_amd64.deb ...\n",
            "Unpacking libgvc6-plugins-gtk (2.42.2-6ubuntu0.1) ...\n",
            "Selecting previously unselected package libgraphviz-dev:amd64.\n",
            "Preparing to unpack .../7-libgraphviz-dev_2.42.2-6ubuntu0.1_amd64.deb ...\n",
            "Unpacking libgraphviz-dev:amd64 (2.42.2-6ubuntu0.1) ...\n",
            "Selecting previously unselected package libgtk2.0-bin.\n",
            "Preparing to unpack .../8-libgtk2.0-bin_2.24.33-2ubuntu2.1_amd64.deb ...\n",
            "Unpacking libgtk2.0-bin (2.24.33-2ubuntu2.1) ...\n",
            "Selecting previously unselected package librsvg2-common:amd64.\n",
            "Preparing to unpack .../9-librsvg2-common_2.52.5+dfsg-3ubuntu0.2_amd64.deb ...\n",
            "Unpacking librsvg2-common:amd64 (2.52.5+dfsg-3ubuntu0.2) ...\n",
            "Setting up libxdot4:amd64 (2.42.2-6ubuntu0.1) ...\n",
            "Setting up pkg-config (0.29.2-1ubuntu3) ...\n",
            "Setting up librsvg2-common:amd64 (2.52.5+dfsg-3ubuntu0.2) ...\n",
            "Setting up libgtk2.0-common (2.24.33-2ubuntu2.1) ...\n",
            "Setting up libgtk2.0-0:amd64 (2.24.33-2ubuntu2.1) ...\n",
            "Setting up libgvc6-plugins-gtk (2.42.2-6ubuntu0.1) ...\n",
            "Setting up libgail18:amd64 (2.24.33-2ubuntu2.1) ...\n",
            "Setting up libgtk2.0-bin (2.24.33-2ubuntu2.1) ...\n",
            "Setting up libgail-common:amd64 (2.24.33-2ubuntu2.1) ...\n",
            "Setting up libgraphviz-dev:amd64 (2.42.2-6ubuntu0.1) ...\n",
            "Processing triggers for libc-bin (2.35-0ubuntu3.4) ...\n",
            "/sbin/ldconfig.real: /usr/local/lib/libtbbbind.so.3 is not a symbolic link\n",
            "\n",
            "/sbin/ldconfig.real: /usr/local/lib/libtbbbind_2_5.so.3 is not a symbolic link\n",
            "\n",
            "/sbin/ldconfig.real: /usr/local/lib/libtbbmalloc_proxy.so.2 is not a symbolic link\n",
            "\n",
            "/sbin/ldconfig.real: /usr/local/lib/libtbbbind_2_0.so.3 is not a symbolic link\n",
            "\n",
            "/sbin/ldconfig.real: /usr/local/lib/libtbbmalloc.so.2 is not a symbolic link\n",
            "\n",
            "/sbin/ldconfig.real: /usr/local/lib/libtbb.so.12 is not a symbolic link\n",
            "\n",
            "Processing triggers for man-db (2.10.2-1) ...\n",
            "Processing triggers for libgdk-pixbuf-2.0-0:amd64 (2.42.8+dfsg-1ubuntu0.3) ...\n",
            "Collecting pygraphviz\n",
            "  Downloading pygraphviz-1.13.tar.gz (104 kB)\n",
            "\u001b[2K     \u001b[90m━━━━━━━━━━━━━━━━━━━━━━━━━━━━━━━━━━━━━━━━\u001b[0m \u001b[32m104.6/104.6 kB\u001b[0m \u001b[31m2.9 MB/s\u001b[0m eta \u001b[36m0:00:00\u001b[0m\n",
            "\u001b[?25h  Installing build dependencies ... \u001b[?25l\u001b[?25hdone\n",
            "  Getting requirements to build wheel ... \u001b[?25l\u001b[?25hdone\n",
            "  Preparing metadata (pyproject.toml) ... \u001b[?25l\u001b[?25hdone\n",
            "Building wheels for collected packages: pygraphviz\n",
            "  Building wheel for pygraphviz (pyproject.toml) ... \u001b[?25l\u001b[?25hdone\n",
            "  Created wheel for pygraphviz: filename=pygraphviz-1.13-cp310-cp310-linux_x86_64.whl size=168500 sha256=75e9f479b6dec5e8e1b86d6b47a889706b49fcbdf2f61116175a9b1f1d5d0321\n",
            "  Stored in directory: /root/.cache/pip/wheels/c5/96/10/6c25add1fffc368b1927252bf73b63fcb938de8f4486e23691\n",
            "Successfully built pygraphviz\n",
            "Installing collected packages: pygraphviz\n",
            "Successfully installed pygraphviz-1.13\n",
            "Collecting automata-lib[visual]\n",
            "  Downloading automata_lib-8.4.0-py3-none-any.whl (125 kB)\n",
            "\u001b[2K     \u001b[90m━━━━━━━━━━━━━━━━━━━━━━━━━━━━━━━━━━━━━━━━\u001b[0m \u001b[32m125.2/125.2 kB\u001b[0m \u001b[31m2.4 MB/s\u001b[0m eta \u001b[36m0:00:00\u001b[0m\n",
            "\u001b[?25hRequirement already satisfied: networkx>=2.6.2 in /usr/local/lib/python3.10/dist-packages (from automata-lib[visual]) (3.3)\n",
            "Requirement already satisfied: frozendict>=2.3.4 in /usr/local/lib/python3.10/dist-packages (from automata-lib[visual]) (2.4.4)\n",
            "Requirement already satisfied: typing-extensions>=4.5.0 in /usr/local/lib/python3.10/dist-packages (from automata-lib[visual]) (4.12.2)\n",
            "Collecting cached-method>=0.1.0 (from automata-lib[visual])\n",
            "  Downloading cached_method-0.1.0-py3-none-any.whl (4.2 kB)\n",
            "Collecting coloraide>=1.8.2 (from automata-lib[visual])\n",
            "  Downloading coloraide-3.3.1-py3-none-any.whl (235 kB)\n",
            "\u001b[2K     \u001b[90m━━━━━━━━━━━━━━━━━━━━━━━━━━━━━━━━━━━━━━━━\u001b[0m \u001b[32m235.0/235.0 kB\u001b[0m \u001b[31m18.2 MB/s\u001b[0m eta \u001b[36m0:00:00\u001b[0m\n",
            "\u001b[?25hRequirement already satisfied: pygraphviz>=1.10 in /usr/local/lib/python3.10/dist-packages (from automata-lib[visual]) (1.13)\n",
            "Installing collected packages: coloraide, cached-method, automata-lib\n",
            "Successfully installed automata-lib-8.4.0 cached-method-0.1.0 coloraide-3.3.1\n",
            "Cloning into 'TCUtil'...\n",
            "remote: Enumerating objects: 242, done.\u001b[K\n",
            "remote: Counting objects: 100% (242/242), done.\u001b[K\n",
            "remote: Compressing objects: 100% (214/214), done.\u001b[K\n",
            "remote: Total 242 (delta 39), reused 149 (delta 12), pack-reused 0\u001b[K\n",
            "Receiving objects: 100% (242/242), 3.31 MiB | 30.85 MiB/s, done.\n",
            "Resolving deltas: 100% (39/39), done.\n"
          ]
        }
      ],
      "source": [
        "# @title Instalação\n",
        "!apt install python3-dev graphviz libgraphviz-dev pkg-config\n",
        "!pip install pygraphviz\n",
        "!pip install automata-lib[visual]\n",
        "!git clone https://github.com/TC-UFCG/TCUtil.git\n",
        "from TCUtil.util import validate_string, print_rastreamento, convert_to_dfa"
      ]
    },
    {
      "cell_type": "markdown",
      "source": [
        "# Exercícios"
      ],
      "metadata": {
        "id": "eWBq1Qem6INh"
      }
    },
    {
      "cell_type": "markdown",
      "source": [
        "## (01)\n",
        "\n",
        "Construa um DFA que reconhece a linguagem descrita por sequencias de uma ou mais ocorrências da cadeia $ab$, onde $\\Sigma = \\{a,b\\}$.\n",
        "\n",
        "Apresente também a expressão regular que descreve esta linguagem."
      ],
      "metadata": {
        "id": "F8iJ74zuA1qz"
      }
    },
    {
      "cell_type": "code",
      "source": [
        "from automata.fa.dfa import DFA\n",
        "from automata.fa.gnfa import GNFA\n",
        "\n",
        "# Defina o DFA aqui\n",
        "dfa01 = DFA(\n",
        "        states={'q0'},\n",
        "        input_symbols={'b', 'a'},\n",
        "        transitions={\n",
        "            'q0': {'a': 'q0', 'b': 'q0'},\n",
        "        },\n",
        "        initial_state='q0',\n",
        "        final_states={'q0'}\n",
        ")\n",
        "\n",
        "# Gerando a expressão regular\n",
        "gnfa1 = GNFA.from_dfa(dfa01)\n",
        "print(gnfa1.to_regex())\n",
        "\n",
        "dfa01.show_diagram()"
      ],
      "metadata": {
        "colab": {
          "base_uri": "https://localhost:8080/",
          "height": 162
        },
        "id": "Q6go02116TsQ",
        "outputId": "433d28ee-556e-447d-aa93-4ae98ba7faaa"
      },
      "execution_count": null,
      "outputs": [
        {
          "output_type": "stream",
          "name": "stdout",
          "text": [
            "(a|b)*\n"
          ]
        },
        {
          "output_type": "execute_result",
          "data": {
            "image/svg+xml": "<?xml version=\"1.0\" encoding=\"UTF-8\" standalone=\"no\"?>\n<!DOCTYPE svg PUBLIC \"-//W3C//DTD SVG 1.1//EN\"\n \"http://www.w3.org/Graphics/SVG/1.1/DTD/svg11.dtd\">\n<!-- Generated by graphviz version 2.43.0 (0)\n -->\n<!-- Pages: 1 -->\n<svg width=\"100pt\" height=\"92pt\"\n viewBox=\"0.00 0.00 99.60 92.00\" xmlns=\"http://www.w3.org/2000/svg\" xmlns:xlink=\"http://www.w3.org/1999/xlink\">\n<g id=\"graph0\" class=\"graph\" transform=\"scale(1 1) rotate(0) translate(4 88)\">\n<polygon fill=\"white\" stroke=\"transparent\" points=\"-4,4 -4,-88 95.6,-88 95.6,4 -4,4\"/>\n<!-- 6db3d654&#45;1918&#45;4998&#45;8465&#45;38f61e7691ae -->\n<g id=\"node1\" class=\"node\">\n<title>6db3d654&#45;1918&#45;4998&#45;8465&#45;38f61e7691ae</title>\n<g id=\"a_node1\"><a xlink:title=\".\">\n<ellipse fill=\"black\" stroke=\"black\" cx=\"1.8\" cy=\"-27.5\" rx=\"1.8\" ry=\"1.8\"/>\n</a>\n</g>\n</g>\n<!-- q0 -->\n<g id=\"node2\" class=\"node\">\n<title>q0</title>\n<ellipse fill=\"none\" stroke=\"black\" cx=\"64.1\" cy=\"-27.5\" rx=\"23.5\" ry=\"23.5\"/>\n<ellipse fill=\"none\" stroke=\"black\" cx=\"64.1\" cy=\"-27.5\" rx=\"27.5\" ry=\"27.5\"/>\n<text text-anchor=\"middle\" x=\"64.1\" y=\"-23.8\" font-family=\"Times,serif\" font-size=\"14.00\">q0</text>\n</g>\n<!-- 6db3d654&#45;1918&#45;4998&#45;8465&#45;38f61e7691ae&#45;&gt;q0 -->\n<g id=\"edge1\" class=\"edge\">\n<title>6db3d654&#45;1918&#45;4998&#45;8465&#45;38f61e7691ae&#45;&gt;q0</title>\n<g id=\"a_edge1\"><a xlink:title=\"&#45;&gt;q0\">\n<path fill=\"none\" stroke=\"black\" d=\"M3.85,-27.5C7.37,-27.5 19.27,-27.5 31.48,-27.5\"/>\n<polygon fill=\"black\" stroke=\"black\" points=\"31.82,-30.48 40.32,-27.5 31.82,-24.53 31.82,-30.48\"/>\n</a>\n</g>\n</g>\n<!-- q0&#45;&gt;q0 -->\n<g id=\"edge2\" class=\"edge\">\n<title>q0&#45;&gt;q0</title>\n<path fill=\"none\" stroke=\"black\" d=\"M56.72,-50.12C56.01,-60.25 58.47,-69 64.1,-69 67.97,-69 70.34,-64.86 71.21,-58.99\"/>\n<polygon fill=\"black\" stroke=\"black\" points=\"74.2,-58.71 71.48,-50.12 68.25,-58.53 74.2,-58.71\"/>\n<text text-anchor=\"middle\" x=\"64.1\" y=\"-72.8\" font-family=\"Times,serif\" font-size=\"14.00\">a,b</text>\n</g>\n</g>\n</svg>\n",
            "text/plain": [
              "<AGraph <Swig Object of type 'Agraph_t *' at 0x78053ef261f0>>"
            ]
          },
          "metadata": {},
          "execution_count": 2
        }
      ]
    },
    {
      "cell_type": "code",
      "source": [
        "# Simulação\n",
        "cadeia = 'ababab'\n",
        "dfa01.show_diagram(cadeia)"
      ],
      "metadata": {
        "colab": {
          "base_uri": "https://localhost:8080/",
          "height": 264
        },
        "id": "ueN2o1Go-tYb",
        "outputId": "618b7118-1ab7-48bf-b8ef-af8c192f0572"
      },
      "execution_count": null,
      "outputs": [
        {
          "output_type": "execute_result",
          "data": {
            "image/svg+xml": "<?xml version=\"1.0\" encoding=\"UTF-8\" standalone=\"no\"?>\n<!DOCTYPE svg PUBLIC \"-//W3C//DTD SVG 1.1//EN\"\n \"http://www.w3.org/Graphics/SVG/1.1/DTD/svg11.dtd\">\n<!-- Generated by graphviz version 2.43.0 (0)\n -->\n<!-- Pages: 1 -->\n<svg width=\"100pt\" height=\"182pt\"\n viewBox=\"0.00 0.00 99.60 182.00\" xmlns=\"http://www.w3.org/2000/svg\" xmlns:xlink=\"http://www.w3.org/1999/xlink\">\n<g id=\"graph0\" class=\"graph\" transform=\"scale(1 1) rotate(0) translate(4 178)\">\n<polygon fill=\"white\" stroke=\"transparent\" points=\"-4,4 -4,-178 95.6,-178 95.6,4 -4,4\"/>\n<!-- 5b1cde21&#45;02bb&#45;4035&#45;ac5d&#45;c18792a31007 -->\n<g id=\"node1\" class=\"node\">\n<title>5b1cde21&#45;02bb&#45;4035&#45;ac5d&#45;c18792a31007</title>\n<g id=\"a_node1\"><a xlink:title=\".\">\n<ellipse fill=\"black\" stroke=\"black\" cx=\"1.8\" cy=\"-27.5\" rx=\"1.8\" ry=\"1.8\"/>\n</a>\n</g>\n</g>\n<!-- q0 -->\n<g id=\"node2\" class=\"node\">\n<title>q0</title>\n<ellipse fill=\"none\" stroke=\"black\" cx=\"64.1\" cy=\"-27.5\" rx=\"23.5\" ry=\"23.5\"/>\n<ellipse fill=\"none\" stroke=\"black\" cx=\"64.1\" cy=\"-27.5\" rx=\"27.5\" ry=\"27.5\"/>\n<text text-anchor=\"middle\" x=\"64.1\" y=\"-23.8\" font-family=\"Times,serif\" font-size=\"14.00\">q0</text>\n</g>\n<!-- 5b1cde21&#45;02bb&#45;4035&#45;ac5d&#45;c18792a31007&#45;&gt;q0 -->\n<g id=\"edge1\" class=\"edge\">\n<title>5b1cde21&#45;02bb&#45;4035&#45;ac5d&#45;c18792a31007&#45;&gt;q0</title>\n<g id=\"a_edge1\"><a xlink:title=\"&#45;&gt;q0\">\n<path fill=\"none\" stroke=\"black\" d=\"M3.85,-27.5C7.37,-27.5 19.27,-27.5 31.48,-27.5\"/>\n<polygon fill=\"black\" stroke=\"black\" points=\"31.82,-30.48 40.32,-27.5 31.82,-24.53 31.82,-30.48\"/>\n</a>\n</g>\n</g>\n<!-- q0&#45;&gt;q0 -->\n<g id=\"edge2\" class=\"edge\">\n<title>q0&#45;&gt;q0</title>\n<path fill=\"none\" stroke=\"#d5ff00\" stroke-width=\"2.5\" d=\"M62.61,-50.96C62.51,-60.73 63.01,-69 64.1,-69 64.85,-69 65.32,-65.09 65.51,-59.47\"/>\n<polygon fill=\"#d5ff00\" stroke=\"#d5ff00\" stroke-width=\"2.5\" points=\"68.48,-59.49 65.58,-50.96 62.53,-59.44 68.48,-59.49\"/>\n<text text-anchor=\"start\" x=\"49.6\" y=\"-73.8\" font-family=\"Times,serif\" font-size=\"14.00\">a </text>\n<text text-anchor=\"start\" x=\"59.6\" y=\"-73.8\" font-family=\"Times,serif\" font-weight=\"bold\" font-size=\"14.00\">[</text>\n<text text-anchor=\"start\" x=\"64.6\" y=\"-73.8\" font-family=\"Times,serif\" font-weight=\"bold\" font-style=\"italic\" font-size=\"14.00\">#1</text>\n</g>\n<!-- q0&#45;&gt;q0 -->\n<g id=\"edge3\" class=\"edge\">\n<title>q0&#45;&gt;q0</title>\n<path fill=\"none\" stroke=\"#aaff00\" stroke-width=\"2.5\" d=\"M61.47,-51.02C60.52,-68.88 61.4,-87 64.1,-87 66.36,-87 67.34,-74.34 67.05,-59.75\"/>\n<polygon fill=\"#aaff00\" stroke=\"#aaff00\" stroke-width=\"2.5\" points=\"70.01,-59.4 66.73,-51.02 64.07,-59.62 70.01,-59.4\"/>\n<text text-anchor=\"start\" x=\"49.1\" y=\"-91.8\" font-family=\"Times,serif\" font-size=\"14.00\">b </text>\n<text text-anchor=\"start\" x=\"60.1\" y=\"-91.8\" font-family=\"Times,serif\" font-weight=\"bold\" font-size=\"14.00\">[</text>\n<text text-anchor=\"start\" x=\"65.1\" y=\"-91.8\" font-family=\"Times,serif\" font-weight=\"bold\" font-style=\"italic\" font-size=\"14.00\">#2</text>\n</g>\n<!-- q0&#45;&gt;q0 -->\n<g id=\"edge4\" class=\"edge\">\n<title>q0&#45;&gt;q0</title>\n<path fill=\"none\" stroke=\"#80ff00\" stroke-width=\"2.5\" d=\"M60.69,-50.91C58.48,-76.24 59.62,-105 64.1,-105 68.07,-105 69.41,-82.38 68.13,-59.6\"/>\n<polygon fill=\"#80ff00\" stroke=\"#80ff00\" stroke-width=\"2.5\" points=\"71.08,-59.17 67.51,-50.91 65.15,-59.6 71.08,-59.17\"/>\n<text text-anchor=\"start\" x=\"49.6\" y=\"-109.8\" font-family=\"Times,serif\" font-size=\"14.00\">a </text>\n<text text-anchor=\"start\" x=\"59.6\" y=\"-109.8\" font-family=\"Times,serif\" font-weight=\"bold\" font-size=\"14.00\">[</text>\n<text text-anchor=\"start\" x=\"64.6\" y=\"-109.8\" font-family=\"Times,serif\" font-weight=\"bold\" font-style=\"italic\" font-size=\"14.00\">#3</text>\n</g>\n<!-- q0&#45;&gt;q0 -->\n<g id=\"edge5\" class=\"edge\">\n<title>q0&#45;&gt;q0</title>\n<path fill=\"none\" stroke=\"#55ff00\" stroke-width=\"2.5\" d=\"M60.1,-51C56.45,-83.36 57.79,-123 64.1,-123 69.87,-123 71.48,-89.88 68.92,-59.47\"/>\n<polygon fill=\"#55ff00\" stroke=\"#55ff00\" stroke-width=\"2.5\" points=\"71.88,-59.17 68.09,-51 65.96,-59.75 71.88,-59.17\"/>\n<text text-anchor=\"start\" x=\"49.1\" y=\"-127.8\" font-family=\"Times,serif\" font-size=\"14.00\">b </text>\n<text text-anchor=\"start\" x=\"60.1\" y=\"-127.8\" font-family=\"Times,serif\" font-weight=\"bold\" font-size=\"14.00\">[</text>\n<text text-anchor=\"start\" x=\"65.1\" y=\"-127.8\" font-family=\"Times,serif\" font-weight=\"bold\" font-style=\"italic\" font-size=\"14.00\">#4</text>\n</g>\n<!-- q0&#45;&gt;q0 -->\n<g id=\"edge6\" class=\"edge\">\n<title>q0&#45;&gt;q0</title>\n<path fill=\"none\" stroke=\"#2aff00\" stroke-width=\"2.5\" d=\"M59.71,-50.62C54.41,-89.84 55.88,-141 64.1,-141 71.71,-141 73.53,-97.15 69.55,-59.53\"/>\n<polygon fill=\"#2aff00\" stroke=\"#2aff00\" stroke-width=\"2.5\" points=\"72.45,-58.71 68.48,-50.62 66.54,-59.41 72.45,-58.71\"/>\n<text text-anchor=\"start\" x=\"49.6\" y=\"-145.8\" font-family=\"Times,serif\" font-size=\"14.00\">a </text>\n<text text-anchor=\"start\" x=\"59.6\" y=\"-145.8\" font-family=\"Times,serif\" font-weight=\"bold\" font-size=\"14.00\">[</text>\n<text text-anchor=\"start\" x=\"64.6\" y=\"-145.8\" font-family=\"Times,serif\" font-weight=\"bold\" font-style=\"italic\" font-size=\"14.00\">#5</text>\n</g>\n<!-- q0&#45;&gt;q0 -->\n<g id=\"edge7\" class=\"edge\">\n<title>q0&#45;&gt;q0</title>\n<path fill=\"none\" stroke=\"#00ff00\" stroke-width=\"2.5\" d=\"M59.35,-50.76C52.39,-96.59 53.97,-159 64.1,-159 73.61,-159 75.58,-103.92 70.02,-59.25\"/>\n<polygon fill=\"#00ff00\" stroke=\"#00ff00\" stroke-width=\"2.5\" points=\"72.95,-58.77 68.84,-50.76 67.06,-59.58 72.95,-58.77\"/>\n<text text-anchor=\"start\" x=\"49.1\" y=\"-163.8\" font-family=\"Times,serif\" font-size=\"14.00\">b </text>\n<text text-anchor=\"start\" x=\"60.1\" y=\"-163.8\" font-family=\"Times,serif\" font-weight=\"bold\" font-size=\"14.00\">[</text>\n<text text-anchor=\"start\" x=\"65.1\" y=\"-163.8\" font-family=\"Times,serif\" font-weight=\"bold\" font-style=\"italic\" font-size=\"14.00\">#6</text>\n</g>\n</g>\n</svg>\n",
            "text/plain": [
              "<AGraph <Swig Object of type 'Agraph_t *' at 0x78053fd71590>>"
            ]
          },
          "metadata": {},
          "execution_count": 3
        }
      ]
    },
    {
      "cell_type": "markdown",
      "source": [
        "## (02)\n",
        "\n",
        "Construa um NFA que reconhece a linguagem sobre $\\Sigma = \\{0,1\\}$, onde as cadeias são sequencias de $0$'s seguidas por sequencias de $1$'s ou sequências de $1$'s seguidas por sequencias de $0$'s.\n",
        "\n",
        "São exemplos de cadeias aceitas: $00, 11, 100, 00111, ...$\n",
        "\n",
        "Apresente também a expressão regular que define esta linguagem."
      ],
      "metadata": {
        "id": "mg3TEum6dkB9"
      }
    },
    {
      "cell_type": "code",
      "source": [
        "## cadeia comeca com sequencia de 0s seguida por sequencia de 1s ou vice-versa\n",
        "from automata.fa.nfa import NFA\n",
        "from automata.fa.gnfa import GNFA\n",
        "\n",
        "# Defina o NFA aqui\n",
        "nfa01 = NFA(\n",
        "        states={'q0'},\n",
        "        input_symbols={'0', '1'},\n",
        "        transitions={\n",
        "            'q0': {'' : {'q0'}},\n",
        "        },\n",
        "        initial_state='q0',\n",
        "        final_states={'q0'}\n",
        ")\n",
        "\n",
        "# Gere e imprima a expressão regular aqui\n",
        "\n",
        "nfa01.show_diagram()"
      ],
      "metadata": {
        "colab": {
          "base_uri": "https://localhost:8080/",
          "height": 144
        },
        "id": "2ofYoBToDwwH",
        "outputId": "cb9bd45b-f301-4c25-a1ed-db78fe4babcf"
      },
      "execution_count": null,
      "outputs": [
        {
          "output_type": "execute_result",
          "data": {
            "image/svg+xml": "<?xml version=\"1.0\" encoding=\"UTF-8\" standalone=\"no\"?>\n<!DOCTYPE svg PUBLIC \"-//W3C//DTD SVG 1.1//EN\"\n \"http://www.w3.org/Graphics/SVG/1.1/DTD/svg11.dtd\">\n<!-- Generated by graphviz version 2.43.0 (0)\n -->\n<!-- Pages: 1 -->\n<svg width=\"100pt\" height=\"92pt\"\n viewBox=\"0.00 0.00 99.60 92.00\" xmlns=\"http://www.w3.org/2000/svg\" xmlns:xlink=\"http://www.w3.org/1999/xlink\">\n<g id=\"graph0\" class=\"graph\" transform=\"scale(1 1) rotate(0) translate(4 88)\">\n<polygon fill=\"white\" stroke=\"transparent\" points=\"-4,4 -4,-88 95.6,-88 95.6,4 -4,4\"/>\n<!-- 528476b2&#45;27be&#45;4e9b&#45;963d&#45;e55c8a39db31 -->\n<g id=\"node1\" class=\"node\">\n<title>528476b2&#45;27be&#45;4e9b&#45;963d&#45;e55c8a39db31</title>\n<g id=\"a_node1\"><a xlink:title=\".\">\n<ellipse fill=\"black\" stroke=\"black\" cx=\"1.8\" cy=\"-27.5\" rx=\"1.8\" ry=\"1.8\"/>\n</a>\n</g>\n</g>\n<!-- q0 -->\n<g id=\"node2\" class=\"node\">\n<title>q0</title>\n<ellipse fill=\"none\" stroke=\"black\" cx=\"64.1\" cy=\"-27.5\" rx=\"23.5\" ry=\"23.5\"/>\n<ellipse fill=\"none\" stroke=\"black\" cx=\"64.1\" cy=\"-27.5\" rx=\"27.5\" ry=\"27.5\"/>\n<text text-anchor=\"middle\" x=\"64.1\" y=\"-23.8\" font-family=\"Times,serif\" font-size=\"14.00\">q0</text>\n</g>\n<!-- 528476b2&#45;27be&#45;4e9b&#45;963d&#45;e55c8a39db31&#45;&gt;q0 -->\n<g id=\"edge1\" class=\"edge\">\n<title>528476b2&#45;27be&#45;4e9b&#45;963d&#45;e55c8a39db31&#45;&gt;q0</title>\n<g id=\"a_edge1\"><a xlink:title=\"&#45;&gt;q0\">\n<path fill=\"none\" stroke=\"black\" d=\"M3.85,-27.5C7.37,-27.5 19.27,-27.5 31.48,-27.5\"/>\n<polygon fill=\"black\" stroke=\"black\" points=\"31.82,-30.48 40.32,-27.5 31.82,-24.53 31.82,-30.48\"/>\n</a>\n</g>\n</g>\n<!-- q0&#45;&gt;q0 -->\n<g id=\"edge2\" class=\"edge\">\n<title>q0&#45;&gt;q0</title>\n<path fill=\"none\" stroke=\"black\" d=\"M56.72,-50.12C56.01,-60.25 58.47,-69 64.1,-69 67.97,-69 70.34,-64.86 71.21,-58.99\"/>\n<polygon fill=\"black\" stroke=\"black\" points=\"74.2,-58.71 71.48,-50.12 68.25,-58.53 74.2,-58.71\"/>\n<text text-anchor=\"middle\" x=\"64.1\" y=\"-72.8\" font-family=\"Times,serif\" font-size=\"14.00\">ε</text>\n</g>\n</g>\n</svg>\n",
            "text/plain": [
              "<AGraph <Swig Object of type 'Agraph_t *' at 0x78053fd71470>>"
            ]
          },
          "metadata": {},
          "execution_count": 4
        }
      ]
    },
    {
      "cell_type": "code",
      "source": [
        "cadeia='001110'\n",
        "gen = nfa01.read_input_stepwise(cadeia)\n",
        "print_rastreamento(gen,nfa01,cadeia)\n",
        "nfa01.show_diagram(cadeia)"
      ],
      "metadata": {
        "colab": {
          "base_uri": "https://localhost:8080/",
          "height": 283
        },
        "id": "x7R1n6dg_MJG",
        "outputId": "2f91439b-ce09-494d-9001-c38f1d7219da"
      },
      "execution_count": null,
      "outputs": [
        {
          "output_type": "stream",
          "name": "stdout",
          "text": [
            "Rastreamento de todos os estados alcançados:\n",
            "δ({'q0'},0) -> set()\n",
            "δ(set(),0) -> set()\n",
            "δ(set(),1) -> set()\n",
            "δ(set(),1) -> set()\n",
            "δ(set(),1) -> set()\n",
            "δ(set(),0) -> set()\n",
            "\n"
          ]
        },
        {
          "output_type": "execute_result",
          "data": {
            "image/svg+xml": "<?xml version=\"1.0\" encoding=\"UTF-8\" standalone=\"no\"?>\n<!DOCTYPE svg PUBLIC \"-//W3C//DTD SVG 1.1//EN\"\n \"http://www.w3.org/Graphics/SVG/1.1/DTD/svg11.dtd\">\n<!-- Generated by graphviz version 2.43.0 (0)\n -->\n<!-- Pages: 1 -->\n<svg width=\"100pt\" height=\"92pt\"\n viewBox=\"0.00 0.00 99.60 92.00\" xmlns=\"http://www.w3.org/2000/svg\" xmlns:xlink=\"http://www.w3.org/1999/xlink\">\n<g id=\"graph0\" class=\"graph\" transform=\"scale(1 1) rotate(0) translate(4 88)\">\n<polygon fill=\"white\" stroke=\"transparent\" points=\"-4,4 -4,-88 95.6,-88 95.6,4 -4,4\"/>\n<!-- 535c8291&#45;16d8&#45;4030&#45;854f&#45;9e7c9859b400 -->\n<g id=\"node1\" class=\"node\">\n<title>535c8291&#45;16d8&#45;4030&#45;854f&#45;9e7c9859b400</title>\n<g id=\"a_node1\"><a xlink:title=\".\">\n<ellipse fill=\"black\" stroke=\"black\" cx=\"1.8\" cy=\"-27.5\" rx=\"1.8\" ry=\"1.8\"/>\n</a>\n</g>\n</g>\n<!-- q0 -->\n<g id=\"node2\" class=\"node\">\n<title>q0</title>\n<ellipse fill=\"none\" stroke=\"black\" cx=\"64.1\" cy=\"-27.5\" rx=\"23.5\" ry=\"23.5\"/>\n<ellipse fill=\"none\" stroke=\"black\" cx=\"64.1\" cy=\"-27.5\" rx=\"27.5\" ry=\"27.5\"/>\n<text text-anchor=\"middle\" x=\"64.1\" y=\"-23.8\" font-family=\"Times,serif\" font-size=\"14.00\">q0</text>\n</g>\n<!-- 535c8291&#45;16d8&#45;4030&#45;854f&#45;9e7c9859b400&#45;&gt;q0 -->\n<g id=\"edge1\" class=\"edge\">\n<title>535c8291&#45;16d8&#45;4030&#45;854f&#45;9e7c9859b400&#45;&gt;q0</title>\n<g id=\"a_edge1\"><a xlink:title=\"&#45;&gt;q0\">\n<path fill=\"none\" stroke=\"black\" d=\"M3.85,-27.5C7.37,-27.5 19.27,-27.5 31.48,-27.5\"/>\n<polygon fill=\"black\" stroke=\"black\" points=\"31.82,-30.48 40.32,-27.5 31.82,-24.53 31.82,-30.48\"/>\n</a>\n</g>\n</g>\n<!-- q0&#45;&gt;q0 -->\n<g id=\"edge2\" class=\"edge\">\n<title>q0&#45;&gt;q0</title>\n<path fill=\"none\" stroke=\"black\" d=\"M56.72,-50.12C56.01,-60.25 58.47,-69 64.1,-69 67.97,-69 70.34,-64.86 71.21,-58.99\"/>\n<polygon fill=\"black\" stroke=\"black\" points=\"74.2,-58.71 71.48,-50.12 68.25,-58.53 74.2,-58.71\"/>\n<text text-anchor=\"middle\" x=\"64.1\" y=\"-72.8\" font-family=\"Times,serif\" font-size=\"14.00\">ε</text>\n</g>\n</g>\n</svg>\n",
            "text/plain": [
              "<AGraph <Swig Object of type 'Agraph_t *' at 0x78053ef26610>>"
            ]
          },
          "metadata": {},
          "execution_count": 5
        }
      ]
    },
    {
      "cell_type": "markdown",
      "source": [
        "## (3)\n",
        "\n",
        "Construa um DFA que implementa o controlador de portas apresentado na Aula 03. Para deixa-lo mais interessante, considere a existência de mais um símbolo de entrada que represente um evento de erro do sensor de detecção de presença e um estado para o qual o automato deve ir após receber o evento associado a este símbolo.\n",
        "\n",
        "Devido a limitações de automata-lib, os símbolos de entrada devem ser representados por um único caracter. Assim considere que as entradas frente, trás, nenhuma, ambas e erro são representadas pelos caracteres `f`, `t`, `n`, `a` e `e` respectivamente. Adicione os estados `fechada` e `aberta` ao conjunto de estados finais."
      ],
      "metadata": {
        "id": "iQojAOVQna7T"
      }
    },
    {
      "cell_type": "code",
      "source": [
        "from automata.fa.dfa import DFA\n",
        "\n",
        "# Defina o DFA aqui\n",
        "dfa02 = DFA(\n",
        "    states = {'aberta'},\n",
        "    input_symbols = {'n','f','t','a','e'},\n",
        "    transitions = {\n",
        "        'aberta': {'n': 'aberta',\n",
        "                   'f': 'aberta',\n",
        "                   't': 'aberta',\n",
        "                   'a': 'aberta',\n",
        "                   'e' : 'aberta'},\n",
        "    },\n",
        "    initial_state = 'aberta',\n",
        "    final_states = {'aberta', 'aberta'}\n",
        ")\n",
        "\n",
        "dfa02.show_diagram()"
      ],
      "metadata": {
        "colab": {
          "base_uri": "https://localhost:8080/",
          "height": 179
        },
        "id": "_rQbWwM7Ddpl",
        "outputId": "7ac3a86f-8279-413e-c02c-6a4b3d83733f"
      },
      "execution_count": null,
      "outputs": [
        {
          "output_type": "execute_result",
          "data": {
            "image/svg+xml": "<?xml version=\"1.0\" encoding=\"UTF-8\" standalone=\"no\"?>\n<!DOCTYPE svg PUBLIC \"-//W3C//DTD SVG 1.1//EN\"\n \"http://www.w3.org/Graphics/SVG/1.1/DTD/svg11.dtd\">\n<!-- Generated by graphviz version 2.43.0 (0)\n -->\n<!-- Pages: 1 -->\n<svg width=\"126pt\" height=\"118pt\"\n viewBox=\"0.00 0.00 125.60 118.00\" xmlns=\"http://www.w3.org/2000/svg\" xmlns:xlink=\"http://www.w3.org/1999/xlink\">\n<g id=\"graph0\" class=\"graph\" transform=\"scale(1 1) rotate(0) translate(4 114)\">\n<polygon fill=\"white\" stroke=\"transparent\" points=\"-4,4 -4,-114 121.6,-114 121.6,4 -4,4\"/>\n<!-- e521563f&#45;6b17&#45;49ca&#45;8162&#45;1efdfb72a5fe -->\n<g id=\"node1\" class=\"node\">\n<title>e521563f&#45;6b17&#45;49ca&#45;8162&#45;1efdfb72a5fe</title>\n<g id=\"a_node1\"><a xlink:title=\".\">\n<ellipse fill=\"black\" stroke=\"black\" cx=\"1.8\" cy=\"-40.5\" rx=\"1.8\" ry=\"1.8\"/>\n</a>\n</g>\n</g>\n<!-- aberta -->\n<g id=\"node2\" class=\"node\">\n<title>aberta</title>\n<ellipse fill=\"none\" stroke=\"black\" cx=\"77.1\" cy=\"-40.5\" rx=\"36.5\" ry=\"36.5\"/>\n<ellipse fill=\"none\" stroke=\"black\" cx=\"77.1\" cy=\"-40.5\" rx=\"40.5\" ry=\"40.5\"/>\n<text text-anchor=\"middle\" x=\"77.1\" y=\"-36.8\" font-family=\"Times,serif\" font-size=\"14.00\">aberta</text>\n</g>\n<!-- e521563f&#45;6b17&#45;49ca&#45;8162&#45;1efdfb72a5fe&#45;&gt;aberta -->\n<g id=\"edge1\" class=\"edge\">\n<title>e521563f&#45;6b17&#45;49ca&#45;8162&#45;1efdfb72a5fe&#45;&gt;aberta</title>\n<g id=\"a_edge1\"><a xlink:title=\"&#45;&gt;aberta\">\n<path fill=\"none\" stroke=\"black\" d=\"M3.62,-40.5C6.77,-40.5 18.53,-40.5 31.7,-40.5\"/>\n<polygon fill=\"black\" stroke=\"black\" points=\"31.97,-43.48 40.47,-40.5 31.97,-37.53 31.97,-43.48\"/>\n</a>\n</g>\n</g>\n<!-- aberta&#45;&gt;aberta -->\n<g id=\"edge2\" class=\"edge\">\n<title>aberta&#45;&gt;aberta</title>\n<path fill=\"none\" stroke=\"black\" d=\"M66.98,-75.62C67.19,-86.47 70.56,-95 77.1,-95 81.8,-95 84.86,-90.59 86.29,-84.09\"/>\n<polygon fill=\"black\" stroke=\"black\" points=\"89.25,-84.39 87.21,-75.62 83.33,-83.75 89.25,-84.39\"/>\n<text text-anchor=\"middle\" x=\"77.1\" y=\"-98.8\" font-family=\"Times,serif\" font-size=\"14.00\">a,e,f,n,t</text>\n</g>\n</g>\n</svg>\n",
            "text/plain": [
              "<AGraph <Swig Object of type 'Agraph_t *' at 0x78052248fa20>>"
            ]
          },
          "metadata": {},
          "execution_count": 6
        }
      ]
    },
    {
      "cell_type": "code",
      "source": [
        "cadeia3='fffaatat'\n",
        "try:\n",
        "  ultimo_estado = list(dfa02.read_input_stepwise(cadeia3))[-1]\n",
        "except:\n",
        "  ultimo_estado = ' em estado de erro'\n",
        "print(f\"Ao final, a porta vai estar: {ultimo_estado}\")\n",
        "dfa02.show_diagram(cadeia3)"
      ],
      "metadata": {
        "colab": {
          "base_uri": "https://localhost:8080/",
          "height": 388
        },
        "id": "dkwJa6IDSlyH",
        "outputId": "48e95f4f-3bc3-4ce6-dc24-6bfc1a19261d"
      },
      "execution_count": null,
      "outputs": [
        {
          "output_type": "stream",
          "name": "stdout",
          "text": [
            "Ao final, a porta vai estar: aberta\n"
          ]
        },
        {
          "output_type": "execute_result",
          "data": {
            "image/svg+xml": "<?xml version=\"1.0\" encoding=\"UTF-8\" standalone=\"no\"?>\n<!DOCTYPE svg PUBLIC \"-//W3C//DTD SVG 1.1//EN\"\n \"http://www.w3.org/Graphics/SVG/1.1/DTD/svg11.dtd\">\n<!-- Generated by graphviz version 2.43.0 (0)\n -->\n<!-- Pages: 1 -->\n<svg width=\"126pt\" height=\"262pt\"\n viewBox=\"0.00 0.00 125.60 261.99\" xmlns=\"http://www.w3.org/2000/svg\" xmlns:xlink=\"http://www.w3.org/1999/xlink\">\n<g id=\"graph0\" class=\"graph\" transform=\"scale(1 1) rotate(0) translate(4 257.99)\">\n<polygon fill=\"white\" stroke=\"transparent\" points=\"-4,4 -4,-257.99 121.6,-257.99 121.6,4 -4,4\"/>\n<!-- 518da12c&#45;6414&#45;4037&#45;87e7&#45;11e0ccef78b7 -->\n<g id=\"node1\" class=\"node\">\n<title>518da12c&#45;6414&#45;4037&#45;87e7&#45;11e0ccef78b7</title>\n<g id=\"a_node1\"><a xlink:title=\".\">\n<ellipse fill=\"black\" stroke=\"black\" cx=\"1.8\" cy=\"-40.5\" rx=\"1.8\" ry=\"1.8\"/>\n</a>\n</g>\n</g>\n<!-- aberta -->\n<g id=\"node2\" class=\"node\">\n<title>aberta</title>\n<ellipse fill=\"none\" stroke=\"black\" cx=\"77.1\" cy=\"-40.5\" rx=\"36.5\" ry=\"36.5\"/>\n<ellipse fill=\"none\" stroke=\"black\" cx=\"77.1\" cy=\"-40.5\" rx=\"40.5\" ry=\"40.5\"/>\n<text text-anchor=\"middle\" x=\"77.1\" y=\"-36.8\" font-family=\"Times,serif\" font-size=\"14.00\">aberta</text>\n</g>\n<!-- 518da12c&#45;6414&#45;4037&#45;87e7&#45;11e0ccef78b7&#45;&gt;aberta -->\n<g id=\"edge1\" class=\"edge\">\n<title>518da12c&#45;6414&#45;4037&#45;87e7&#45;11e0ccef78b7&#45;&gt;aberta</title>\n<g id=\"a_edge1\"><a xlink:title=\"&#45;&gt;aberta\">\n<path fill=\"none\" stroke=\"black\" d=\"M3.62,-40.5C6.77,-40.5 18.53,-40.5 31.7,-40.5\"/>\n<polygon fill=\"black\" stroke=\"black\" points=\"31.97,-43.48 40.47,-40.5 31.97,-37.53 31.97,-43.48\"/>\n</a>\n</g>\n</g>\n<!-- aberta&#45;&gt;aberta -->\n<g id=\"edge2\" class=\"edge\">\n<title>aberta&#45;&gt;aberta</title>\n<path fill=\"none\" stroke=\"#dfff00\" stroke-width=\"2.5\" d=\"M75.61,-77.18C75.68,-87.28 76.17,-95 77.1,-95 77.73,-95 78.16,-91.35 78.4,-85.79\"/>\n<polygon fill=\"#dfff00\" stroke=\"#dfff00\" stroke-width=\"2.5\" points=\"81.37,-85.74 78.59,-77.18 75.42,-85.61 81.37,-85.74\"/>\n<text text-anchor=\"start\" x=\"63.1\" y=\"-99.8\" font-family=\"Times,serif\" font-size=\"14.00\">f </text>\n<text text-anchor=\"start\" x=\"72.1\" y=\"-99.8\" font-family=\"Times,serif\" font-weight=\"bold\" font-size=\"14.00\">[</text>\n<text text-anchor=\"start\" x=\"77.1\" y=\"-99.8\" font-family=\"Times,serif\" font-weight=\"bold\" font-style=\"italic\" font-size=\"14.00\">#1</text>\n</g>\n<!-- aberta&#45;&gt;aberta -->\n<g id=\"edge3\" class=\"edge\">\n<title>aberta&#45;&gt;aberta</title>\n<path fill=\"none\" stroke=\"#bfff00\" stroke-width=\"2.5\" d=\"M74.2,-77.06C73.76,-95.96 74.72,-112.99 77.1,-112.99 79.1,-112.99 80.1,-100.87 80.1,-85.72\"/>\n<polygon fill=\"#bfff00\" stroke=\"#bfff00\" stroke-width=\"2.5\" points=\"83.07,-85.52 79.99,-77.06 77.12,-85.59 83.07,-85.52\"/>\n<text text-anchor=\"start\" x=\"63.1\" y=\"-117.79\" font-family=\"Times,serif\" font-size=\"14.00\">f </text>\n<text text-anchor=\"start\" x=\"72.1\" y=\"-117.79\" font-family=\"Times,serif\" font-weight=\"bold\" font-size=\"14.00\">[</text>\n<text text-anchor=\"start\" x=\"77.1\" y=\"-117.79\" font-family=\"Times,serif\" font-weight=\"bold\" font-style=\"italic\" font-size=\"14.00\">#2</text>\n</g>\n<!-- aberta&#45;&gt;aberta -->\n<g id=\"edge4\" class=\"edge\">\n<title>aberta&#45;&gt;aberta</title>\n<path fill=\"none\" stroke=\"#9fff00\" stroke-width=\"2.5\" d=\"M73.11,-77.21C71.76,-104.08 73.09,-130.99 77.1,-130.99 80.67,-130.99 82.11,-109.64 81.44,-85.99\"/>\n<polygon fill=\"#9fff00\" stroke=\"#9fff00\" stroke-width=\"2.5\" points=\"84.4,-85.59 81.09,-77.21 78.45,-85.82 84.4,-85.59\"/>\n<text text-anchor=\"start\" x=\"63.1\" y=\"-135.79\" font-family=\"Times,serif\" font-size=\"14.00\">f </text>\n<text text-anchor=\"start\" x=\"72.1\" y=\"-135.79\" font-family=\"Times,serif\" font-weight=\"bold\" font-size=\"14.00\">[</text>\n<text text-anchor=\"start\" x=\"77.1\" y=\"-135.79\" font-family=\"Times,serif\" font-weight=\"bold\" font-style=\"italic\" font-size=\"14.00\">#3</text>\n</g>\n<!-- aberta&#45;&gt;aberta -->\n<g id=\"edge5\" class=\"edge\">\n<title>aberta&#45;&gt;aberta</title>\n<path fill=\"none\" stroke=\"#80ff00\" stroke-width=\"2.5\" d=\"M72.27,-76.9C69.72,-111.42 71.33,-148.99 77.1,-148.99 82.39,-148.99 84.18,-117.34 82.47,-85.44\"/>\n<polygon fill=\"#80ff00\" stroke=\"#80ff00\" stroke-width=\"2.5\" points=\"85.44,-85.2 81.93,-76.9 79.5,-85.57 85.44,-85.2\"/>\n<text text-anchor=\"start\" x=\"62.6\" y=\"-153.79\" font-family=\"Times,serif\" font-size=\"14.00\">a </text>\n<text text-anchor=\"start\" x=\"72.6\" y=\"-153.79\" font-family=\"Times,serif\" font-weight=\"bold\" font-size=\"14.00\">[</text>\n<text text-anchor=\"start\" x=\"77.6\" y=\"-153.79\" font-family=\"Times,serif\" font-weight=\"bold\" font-style=\"italic\" font-size=\"14.00\">#4</text>\n</g>\n<!-- aberta&#45;&gt;aberta -->\n<g id=\"edge6\" class=\"edge\">\n<title>aberta&#45;&gt;aberta</title>\n<path fill=\"none\" stroke=\"#60ff00\" stroke-width=\"2.5\" d=\"M71.59,-76.76C67.68,-118.56 69.52,-166.99 77.1,-166.99 84.14,-166.99 86.22,-125.14 83.34,-85.66\"/>\n<polygon fill=\"#60ff00\" stroke=\"#60ff00\" stroke-width=\"2.5\" points=\"86.27,-84.98 82.6,-76.76 80.34,-85.48 86.27,-84.98\"/>\n<text text-anchor=\"start\" x=\"62.6\" y=\"-171.79\" font-family=\"Times,serif\" font-size=\"14.00\">a </text>\n<text text-anchor=\"start\" x=\"72.6\" y=\"-171.79\" font-family=\"Times,serif\" font-weight=\"bold\" font-size=\"14.00\">[</text>\n<text text-anchor=\"start\" x=\"77.6\" y=\"-171.79\" font-family=\"Times,serif\" font-weight=\"bold\" font-style=\"italic\" font-size=\"14.00\">#5</text>\n</g>\n<!-- aberta&#45;&gt;aberta -->\n<g id=\"edge7\" class=\"edge\">\n<title>aberta&#45;&gt;aberta</title>\n<path fill=\"none\" stroke=\"#40ff00\" stroke-width=\"2.5\" d=\"M71.02,-76.78C65.65,-125.61 67.67,-184.99 77.1,-184.99 85.97,-184.99 88.28,-132.36 84.04,-85.46\"/>\n<polygon fill=\"#40ff00\" stroke=\"#40ff00\" stroke-width=\"2.5\" points=\"86.98,-84.94 83.17,-76.78 81.06,-85.53 86.98,-84.94\"/>\n<text text-anchor=\"start\" x=\"63.6\" y=\"-189.79\" font-family=\"Times,serif\" font-size=\"14.00\">t </text>\n<text text-anchor=\"start\" x=\"71.6\" y=\"-189.79\" font-family=\"Times,serif\" font-weight=\"bold\" font-size=\"14.00\">[</text>\n<text text-anchor=\"start\" x=\"76.6\" y=\"-189.79\" font-family=\"Times,serif\" font-weight=\"bold\" font-style=\"italic\" font-size=\"14.00\">#6</text>\n</g>\n<!-- aberta&#45;&gt;aberta -->\n<g id=\"edge8\" class=\"edge\">\n<title>aberta&#45;&gt;aberta</title>\n<path fill=\"none\" stroke=\"#20ff00\" stroke-width=\"2.5\" d=\"M70.6,-76.42C63.61,-132.16 65.78,-202.99 77.1,-202.99 87.84,-202.99 90.34,-139.18 84.59,-85.02\"/>\n<polygon fill=\"#20ff00\" stroke=\"#20ff00\" stroke-width=\"2.5\" points=\"87.53,-84.52 83.6,-76.42 81.62,-85.2 87.53,-84.52\"/>\n<text text-anchor=\"start\" x=\"62.6\" y=\"-207.79\" font-family=\"Times,serif\" font-size=\"14.00\">a </text>\n<text text-anchor=\"start\" x=\"72.6\" y=\"-207.79\" font-family=\"Times,serif\" font-weight=\"bold\" font-size=\"14.00\">[</text>\n<text text-anchor=\"start\" x=\"77.6\" y=\"-207.79\" font-family=\"Times,serif\" font-weight=\"bold\" font-style=\"italic\" font-size=\"14.00\">#7</text>\n</g>\n<!-- aberta&#45;&gt;aberta -->\n<g id=\"edge9\" class=\"edge\">\n<title>aberta&#45;&gt;aberta</title>\n<path fill=\"none\" stroke=\"#00ff00\" stroke-width=\"2.5\" d=\"M70.2,-76.38C61.58,-138.86 63.88,-220.99 77.1,-220.99 89.72,-220.99 92.39,-146.07 85.09,-84.91\"/>\n<polygon fill=\"#00ff00\" stroke=\"#00ff00\" stroke-width=\"2.5\" points=\"88.02,-84.43 83.99,-76.38 82.12,-85.19 88.02,-84.43\"/>\n<text text-anchor=\"start\" x=\"63.6\" y=\"-225.79\" font-family=\"Times,serif\" font-size=\"14.00\">t </text>\n<text text-anchor=\"start\" x=\"71.6\" y=\"-225.79\" font-family=\"Times,serif\" font-weight=\"bold\" font-size=\"14.00\">[</text>\n<text text-anchor=\"start\" x=\"76.6\" y=\"-225.79\" font-family=\"Times,serif\" font-weight=\"bold\" font-style=\"italic\" font-size=\"14.00\">#8</text>\n</g>\n<!-- aberta&#45;&gt;aberta -->\n<g id=\"edge10\" class=\"edge\">\n<title>aberta&#45;&gt;aberta</title>\n<path fill=\"none\" stroke=\"black\" d=\"M69.83,-76.57C59.56,-145.66 61.98,-238.99 77.1,-238.99 91.59,-238.99 94.42,-153.16 85.56,-85.18\"/>\n<polygon fill=\"black\" stroke=\"black\" points=\"88.48,-84.57 84.36,-76.57 82.59,-85.4 88.48,-84.57\"/>\n<text text-anchor=\"middle\" x=\"77.1\" y=\"-242.79\" font-family=\"Times,serif\" font-size=\"14.00\">e,n</text>\n</g>\n</g>\n</svg>\n",
            "text/plain": [
              "<AGraph <Swig Object of type 'Agraph_t *' at 0x78052248f120>>"
            ]
          },
          "metadata": {},
          "execution_count": 7
        }
      ]
    },
    {
      "cell_type": "markdown",
      "source": [
        "##(04)\n",
        "\n",
        "É possível testar se dois autômatos são equivalentes, isto é, se reconhecem uma mesma linguagem? Como isto poderia ser feito usando automata-lib?"
      ],
      "metadata": {
        "id": "9FPx2KqAUwpG"
      }
    }
  ]
}